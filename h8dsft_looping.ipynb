{
 "cells": [
  {
   "cell_type": "code",
   "execution_count": 1,
   "metadata": {},
   "outputs": [
    {
     "name": "stdout",
     "output_type": "stream",
     "text": [
      "[951, 651, 69, 319, 601, 485, 507, 725, 547, 615, 83, 165, 141, 501, 263, 617, 865, 575, 219, 105, 941, 47, 907, 375, 823, 597, 615, 953, 345, 399, 219, 'END']\n"
     ]
    }
   ],
   "source": [
    "numbers = [\n",
    "  951, 402, 984, 651, 360, 69, 408, 319, 601, 485, 980, 507, 725, 547, 544, 615, 83, 165, 141, 501, 263, 617, 865, 575, 219, 390, 984, 592, 236, 105, 942, 941, 386, 462, 47, 418, 907, 344, 236, 375, 823, 566, 597, 978, 328, 615, 953, 345, 399, 162, 758, 219, 918, 237, 412, 566, 826, 248, 866, 950, 626, 949\n",
    "]\n",
    "\n",
    "angka_ganjil = []\n",
    "\n",
    "for angka in numbers :\n",
    "    if angka == 918 : \n",
    "        break\n",
    "    if angka % 2 != 0 :\n",
    "        angka_ganjil.append(angka)\n",
    "angka_ganjil.append('END')\n",
    "\n",
    "print (angka_ganjil)"
   ]
  }
 ],
 "metadata": {
  "kernelspec": {
   "display_name": "Python 3",
   "language": "python",
   "name": "python3"
  },
  "language_info": {
   "codemirror_mode": {
    "name": "ipython",
    "version": 3
   },
   "file_extension": ".py",
   "mimetype": "text/x-python",
   "name": "python",
   "nbconvert_exporter": "python",
   "pygments_lexer": "ipython3",
   "version": "3.11.1"
  },
  "orig_nbformat": 4
 },
 "nbformat": 4,
 "nbformat_minor": 2
}
